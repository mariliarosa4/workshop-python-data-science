{
 "metadata": {
  "language_info": {
   "codemirror_mode": {
    "name": "ipython",
    "version": 3
   },
   "file_extension": ".py",
   "mimetype": "text/x-python",
   "name": "python",
   "nbconvert_exporter": "python",
   "pygments_lexer": "ipython3",
   "version": "3.8.5-final"
  },
  "orig_nbformat": 2,
  "kernelspec": {
   "name": "python38564bit94d8660073f5472090a44d953553e0f8",
   "display_name": "Python 3.8.5 64-bit",
   "language": "python"
  }
 },
 "nbformat": 4,
 "nbformat_minor": 2,
 "cells": [
  {
   "source": [
    "## Extraindo dados a partir de CSVs\n",
    "\n",
    "### Caso de uso: Dados do projeto Konsulta"
   ],
   "cell_type": "markdown",
   "metadata": {}
  },
  {
   "source": [
    "<img src=\"imgs/pandas-csv.png\" width=\"600\">\n"
   ],
   "cell_type": "markdown",
   "metadata": {}
  },
  {
   "cell_type": "code",
   "execution_count": 15,
   "metadata": {},
   "outputs": [],
   "source": [
    "import pandas as pd\n",
    "import ast\n",
    "from datetime import datetime\n"
   ]
  },
  {
   "cell_type": "code",
   "execution_count": 16,
   "metadata": {},
   "outputs": [
    {
     "output_type": "execute_result",
     "data": {
      "text/plain": [
       "(5645, 5)"
      ]
     },
     "metadata": {},
     "execution_count": 16
    }
   ],
   "source": [
    "\n",
    "dfTimeline = pd.read_csv('dataset_konsulta/timelines.csv')\n",
    "dfTimeline.shape"
   ]
  },
  {
   "cell_type": "code",
   "execution_count": 17,
   "metadata": {},
   "outputs": [
    {
     "output_type": "execute_result",
     "data": {
      "text/plain": [
       "                        _id       ov                        clientName  \\\n",
       "0  5fdd01899591691c943877ab  1304464           MOINHO TAQUARIENSE LTDA   \n",
       "1  5fe09ee7c5f47351cef72e51  1304465            MINERAÇÃO BELOCAL LTDA   \n",
       "2  5fe0c9e0c5f47351ce27b710  6470722  YPIOCA INDUSTRIAL DE BEBIDAS S.A   \n",
       "3  5fe24a3bc5f47351cec79031  1304194               CP KELCO BRASIL S/A   \n",
       "4  5fe328efc5f47351cead6e3b  1304415              GLOBAL PAPEIS EIRELI   \n",
       "\n",
       "       createdAt                                             status  \n",
       "0  1608319369639  [{\"step\":1,\"label\":\"Ov encontrada\",\"content\":{...  \n",
       "1  1608556263663  [{\"step\":1,\"label\":\"Ov encontrada\",\"content\":{...  \n",
       "2  1608567264022  [{\"step\":1,\"label\":\"Ov encontrada\",\"content\":{...  \n",
       "3  1608666097633  [{\"step\":1,\"label\":\"Ov encontrada\",\"content\":{...  \n",
       "4  1608722671882  [{\"step\":1,\"label\":\"Ov encontrada\",\"content\":{...  "
      ],
      "text/html": "<div>\n<style scoped>\n    .dataframe tbody tr th:only-of-type {\n        vertical-align: middle;\n    }\n\n    .dataframe tbody tr th {\n        vertical-align: top;\n    }\n\n    .dataframe thead th {\n        text-align: right;\n    }\n</style>\n<table border=\"1\" class=\"dataframe\">\n  <thead>\n    <tr style=\"text-align: right;\">\n      <th></th>\n      <th>_id</th>\n      <th>ov</th>\n      <th>clientName</th>\n      <th>createdAt</th>\n      <th>status</th>\n    </tr>\n  </thead>\n  <tbody>\n    <tr>\n      <th>0</th>\n      <td>5fdd01899591691c943877ab</td>\n      <td>1304464</td>\n      <td>MOINHO TAQUARIENSE LTDA</td>\n      <td>1608319369639</td>\n      <td>[{\"step\":1,\"label\":\"Ov encontrada\",\"content\":{...</td>\n    </tr>\n    <tr>\n      <th>1</th>\n      <td>5fe09ee7c5f47351cef72e51</td>\n      <td>1304465</td>\n      <td>MINERAÇÃO BELOCAL LTDA</td>\n      <td>1608556263663</td>\n      <td>[{\"step\":1,\"label\":\"Ov encontrada\",\"content\":{...</td>\n    </tr>\n    <tr>\n      <th>2</th>\n      <td>5fe0c9e0c5f47351ce27b710</td>\n      <td>6470722</td>\n      <td>YPIOCA INDUSTRIAL DE BEBIDAS S.A</td>\n      <td>1608567264022</td>\n      <td>[{\"step\":1,\"label\":\"Ov encontrada\",\"content\":{...</td>\n    </tr>\n    <tr>\n      <th>3</th>\n      <td>5fe24a3bc5f47351cec79031</td>\n      <td>1304194</td>\n      <td>CP KELCO BRASIL S/A</td>\n      <td>1608666097633</td>\n      <td>[{\"step\":1,\"label\":\"Ov encontrada\",\"content\":{...</td>\n    </tr>\n    <tr>\n      <th>4</th>\n      <td>5fe328efc5f47351cead6e3b</td>\n      <td>1304415</td>\n      <td>GLOBAL PAPEIS EIRELI</td>\n      <td>1608722671882</td>\n      <td>[{\"step\":1,\"label\":\"Ov encontrada\",\"content\":{...</td>\n    </tr>\n  </tbody>\n</table>\n</div>"
     },
     "metadata": {},
     "execution_count": 17
    }
   ],
   "source": [
    "dfTimeline.head()"
   ]
  },
  {
   "cell_type": "code",
   "execution_count": 18,
   "metadata": {},
   "outputs": [
    {
     "output_type": "execute_result",
     "data": {
      "text/plain": [
       "(5645, 6)"
      ]
     },
     "metadata": {},
     "execution_count": 18
    }
   ],
   "source": [
    "dfTimeline['statusFinal'] = dfTimeline[\"status\"].astype('str')\n",
    "dfTimeline['statusFinal'] = dfTimeline['statusFinal'].apply(lambda x: ast.literal_eval(x))\n",
    "dfTimeline['statusFinal'] = dfTimeline['statusFinal'].apply(lambda x: x[-1])\n",
    "lst_liberado = ['Status do Pedido: Operação o.k.','Status do Pedido: Operação liberada', 'Ov liberada', 'Liberado.', 'Problema ao liberar pedido. Favor verificar se já está liberado', 'Operação liberada', 'Crédito dentro do limite']\n",
    "lst_bloqueado = ['Status do Pedido: Operação não o.k.', 'Operação não o.k.', 'Status do Pedido: não executada']\n",
    "# df['createdAt'] = pd.to_datetime(df['createdAt'], errors='coerce')\n",
    "\n",
    "\n",
    "dfTimeline.shape"
   ]
  },
  {
   "cell_type": "code",
   "execution_count": 19,
   "metadata": {},
   "outputs": [],
   "source": [
    "def buscaString(x):\n",
    "    if x['label'].strip() in lst_liberado:\n",
    "        return 'Liberado'\n",
    "    elif 'Pedido bloqueado' in x['label'] or x['label'].strip() in lst_bloqueado :\n",
    "        return 'Bloqueado'\n",
    "    else:\n",
    "        return 'Sem status'"
   ]
  },
  {
   "cell_type": "code",
   "execution_count": 20,
   "metadata": {},
   "outputs": [
    {
     "output_type": "execute_result",
     "data": {
      "text/plain": [
       "                        _id       ov                        clientName  \\\n",
       "0  5fdd01899591691c943877ab  1304464           MOINHO TAQUARIENSE LTDA   \n",
       "1  5fe09ee7c5f47351cef72e51  1304465            MINERAÇÃO BELOCAL LTDA   \n",
       "2  5fe0c9e0c5f47351ce27b710  6470722  YPIOCA INDUSTRIAL DE BEBIDAS S.A   \n",
       "3  5fe24a3bc5f47351cec79031  1304194               CP KELCO BRASIL S/A   \n",
       "4  5fe328efc5f47351cead6e3b  1304415              GLOBAL PAPEIS EIRELI   \n",
       "\n",
       "       createdAt                                             status  \\\n",
       "0  1608319369639  [{\"step\":1,\"label\":\"Ov encontrada\",\"content\":{...   \n",
       "1  1608556263663  [{\"step\":1,\"label\":\"Ov encontrada\",\"content\":{...   \n",
       "2  1608567264022  [{\"step\":1,\"label\":\"Ov encontrada\",\"content\":{...   \n",
       "3  1608666097633  [{\"step\":1,\"label\":\"Ov encontrada\",\"content\":{...   \n",
       "4  1608722671882  [{\"step\":1,\"label\":\"Ov encontrada\",\"content\":{...   \n",
       "\n",
       "                                         statusFinal finalizada  \n",
       "0  {'step': 2, 'label': 'Pedido bloqueado - Fatur...  Bloqueado  \n",
       "1  {'step': 2, 'label': 'Pedido bloqueado - Fatur...  Bloqueado  \n",
       "2  {'step': 2, 'label': 'Pedido bloqueado - Fatur...  Bloqueado  \n",
       "3  {'step': 3, 'label': 'Pedido bloqueado - Esse ...  Bloqueado  \n",
       "4  {'step': 2, 'label': 'Pedido bloqueado - Limit...  Bloqueado  "
      ],
      "text/html": "<div>\n<style scoped>\n    .dataframe tbody tr th:only-of-type {\n        vertical-align: middle;\n    }\n\n    .dataframe tbody tr th {\n        vertical-align: top;\n    }\n\n    .dataframe thead th {\n        text-align: right;\n    }\n</style>\n<table border=\"1\" class=\"dataframe\">\n  <thead>\n    <tr style=\"text-align: right;\">\n      <th></th>\n      <th>_id</th>\n      <th>ov</th>\n      <th>clientName</th>\n      <th>createdAt</th>\n      <th>status</th>\n      <th>statusFinal</th>\n      <th>finalizada</th>\n    </tr>\n  </thead>\n  <tbody>\n    <tr>\n      <th>0</th>\n      <td>5fdd01899591691c943877ab</td>\n      <td>1304464</td>\n      <td>MOINHO TAQUARIENSE LTDA</td>\n      <td>1608319369639</td>\n      <td>[{\"step\":1,\"label\":\"Ov encontrada\",\"content\":{...</td>\n      <td>{'step': 2, 'label': 'Pedido bloqueado - Fatur...</td>\n      <td>Bloqueado</td>\n    </tr>\n    <tr>\n      <th>1</th>\n      <td>5fe09ee7c5f47351cef72e51</td>\n      <td>1304465</td>\n      <td>MINERAÇÃO BELOCAL LTDA</td>\n      <td>1608556263663</td>\n      <td>[{\"step\":1,\"label\":\"Ov encontrada\",\"content\":{...</td>\n      <td>{'step': 2, 'label': 'Pedido bloqueado - Fatur...</td>\n      <td>Bloqueado</td>\n    </tr>\n    <tr>\n      <th>2</th>\n      <td>5fe0c9e0c5f47351ce27b710</td>\n      <td>6470722</td>\n      <td>YPIOCA INDUSTRIAL DE BEBIDAS S.A</td>\n      <td>1608567264022</td>\n      <td>[{\"step\":1,\"label\":\"Ov encontrada\",\"content\":{...</td>\n      <td>{'step': 2, 'label': 'Pedido bloqueado - Fatur...</td>\n      <td>Bloqueado</td>\n    </tr>\n    <tr>\n      <th>3</th>\n      <td>5fe24a3bc5f47351cec79031</td>\n      <td>1304194</td>\n      <td>CP KELCO BRASIL S/A</td>\n      <td>1608666097633</td>\n      <td>[{\"step\":1,\"label\":\"Ov encontrada\",\"content\":{...</td>\n      <td>{'step': 3, 'label': 'Pedido bloqueado - Esse ...</td>\n      <td>Bloqueado</td>\n    </tr>\n    <tr>\n      <th>4</th>\n      <td>5fe328efc5f47351cead6e3b</td>\n      <td>1304415</td>\n      <td>GLOBAL PAPEIS EIRELI</td>\n      <td>1608722671882</td>\n      <td>[{\"step\":1,\"label\":\"Ov encontrada\",\"content\":{...</td>\n      <td>{'step': 2, 'label': 'Pedido bloqueado - Limit...</td>\n      <td>Bloqueado</td>\n    </tr>\n  </tbody>\n</table>\n</div>"
     },
     "metadata": {},
     "execution_count": 20
    }
   ],
   "source": [
    "dfTimeline['finalizada'] = dfTimeline['statusFinal'].apply(lambda x: buscaString(x))\n",
    "dfTimeline.rename(columns={ 'createdAt_y' : 'createdAt'})\n",
    "dfTimeline.head()"
   ]
  },
  {
   "cell_type": "code",
   "execution_count": 21,
   "metadata": {},
   "outputs": [
    {
     "output_type": "execute_result",
     "data": {
      "text/plain": [
       "'[{\"step\":1,\"label\":\"Ov encontrada\",\"content\":{\"Limite de crédito\":\"R$ 1.000.000,00\",\"Compromisso Total\":\"R$ 368.707,72\",\"Valor Pedido\":\"R$ 22.832,70\",\"Grau de utilização\":\"36.87%\"},\"icon\":\"search\"},{\"step\":2,\"label\":\"Pedido bloqueado - Faturas em Atraso, esse pedido não será liberado até que as faturas sejam regularizadas\",\"icon\":\"slash\"}]'"
      ]
     },
     "metadata": {},
     "execution_count": 21
    }
   ],
   "source": [
    "dfTimeline['status'][0]"
   ]
  },
  {
   "source": [
    "<img src=\"imgs/lambda.png\" width=\"600\">\n"
   ],
   "cell_type": "markdown",
   "metadata": {}
  },
  {
   "source": [
    "### Biblioteca Python ast – Abstract Syntax Trees\n",
    "\n",
    "Transformar strings em objetos Python com literal_eval\n"
   ],
   "cell_type": "markdown",
   "metadata": {}
  },
  {
   "cell_type": "code",
   "execution_count": 22,
   "metadata": {},
   "outputs": [],
   "source": [
    "dfTimeline['status'] = dfTimeline['status'].apply(lambda x: ast.literal_eval(x))"
   ]
  },
  {
   "cell_type": "code",
   "execution_count": 23,
   "metadata": {},
   "outputs": [],
   "source": [
    "dfTimeline['horaUltimoStatus'] = pd.to_datetime(dfTimeline['createdAt'],unit='ms').dt.strftime('%d/%m/%Y %H:%M')\n"
   ]
  },
  {
   "source": [
    "### Boolean Indexing\n",
    "\n",
    "Aplicando filtro ou criterios condicionais para verificações boleanas"
   ],
   "cell_type": "markdown",
   "metadata": {}
  },
  {
   "cell_type": "code",
   "execution_count": 24,
   "metadata": {},
   "outputs": [
    {
     "output_type": "execute_result",
     "data": {
      "text/plain": [
       "(3959, 8)"
      ]
     },
     "metadata": {},
     "execution_count": 24
    }
   ],
   "source": [
    "#remove os \"Sem status\"\n",
    "\n",
    "dfTimeline = dfTimeline[dfTimeline.finalizada != 'Sem status']\n",
    "dfTimeline.shape"
   ]
  },
  {
   "cell_type": "code",
   "execution_count": 25,
   "metadata": {},
   "outputs": [
    {
     "output_type": "stream",
     "name": "stdout",
     "text": [
      "Dados de  18/12/2020  até  17/03/2021\n"
     ]
    }
   ],
   "source": [
    "periodoFinal = pd.to_datetime(dfTimeline['createdAt'],unit='ms').max().strftime('%d/%m/%Y')\n",
    "periodoInicial = pd.to_datetime(dfTimeline['createdAt'],unit='ms').min().strftime('%d/%m/%Y')\n",
    "print(\"Dados de \", periodoInicial, \" até \", periodoFinal)"
   ]
  },
  {
   "cell_type": "code",
   "execution_count": 26,
   "metadata": {},
   "outputs": [
    {
     "output_type": "display_data",
     "data": {
      "application/vnd.plotly.v1+json": {
       "config": {
        "plotlyServerURL": "https://plot.ly"
       },
       "data": [
        {
         "hoverinfo": "label+percent",
         "labels": [
          "Bloqueado",
          "Liberado"
         ],
         "marker": {
          "colors": [
           "tomato",
           "#32c691"
          ]
         },
         "textinfo": "value",
         "type": "pie",
         "values": [
          1271,
          2688
         ]
        }
       ],
       "layout": {
        "annotations": [
         {
          "font": {
           "size": 20
          },
          "showarrow": false,
          "text": "Total = 3959 pedidos",
          "x": 1.15,
          "y": -0.003
         }
        ],
        "margin": {
         "b": 20,
         "l": 20,
         "r": 20,
         "t": 100
        },
        "template": {
         "data": {
          "bar": [
           {
            "error_x": {
             "color": "#2a3f5f"
            },
            "error_y": {
             "color": "#2a3f5f"
            },
            "marker": {
             "line": {
              "color": "#E5ECF6",
              "width": 0.5
             }
            },
            "type": "bar"
           }
          ],
          "barpolar": [
           {
            "marker": {
             "line": {
              "color": "#E5ECF6",
              "width": 0.5
             }
            },
            "type": "barpolar"
           }
          ],
          "carpet": [
           {
            "aaxis": {
             "endlinecolor": "#2a3f5f",
             "gridcolor": "white",
             "linecolor": "white",
             "minorgridcolor": "white",
             "startlinecolor": "#2a3f5f"
            },
            "baxis": {
             "endlinecolor": "#2a3f5f",
             "gridcolor": "white",
             "linecolor": "white",
             "minorgridcolor": "white",
             "startlinecolor": "#2a3f5f"
            },
            "type": "carpet"
           }
          ],
          "choropleth": [
           {
            "colorbar": {
             "outlinewidth": 0,
             "ticks": ""
            },
            "type": "choropleth"
           }
          ],
          "contour": [
           {
            "colorbar": {
             "outlinewidth": 0,
             "ticks": ""
            },
            "colorscale": [
             [
              0,
              "#0d0887"
             ],
             [
              0.1111111111111111,
              "#46039f"
             ],
             [
              0.2222222222222222,
              "#7201a8"
             ],
             [
              0.3333333333333333,
              "#9c179e"
             ],
             [
              0.4444444444444444,
              "#bd3786"
             ],
             [
              0.5555555555555556,
              "#d8576b"
             ],
             [
              0.6666666666666666,
              "#ed7953"
             ],
             [
              0.7777777777777778,
              "#fb9f3a"
             ],
             [
              0.8888888888888888,
              "#fdca26"
             ],
             [
              1,
              "#f0f921"
             ]
            ],
            "type": "contour"
           }
          ],
          "contourcarpet": [
           {
            "colorbar": {
             "outlinewidth": 0,
             "ticks": ""
            },
            "type": "contourcarpet"
           }
          ],
          "heatmap": [
           {
            "colorbar": {
             "outlinewidth": 0,
             "ticks": ""
            },
            "colorscale": [
             [
              0,
              "#0d0887"
             ],
             [
              0.1111111111111111,
              "#46039f"
             ],
             [
              0.2222222222222222,
              "#7201a8"
             ],
             [
              0.3333333333333333,
              "#9c179e"
             ],
             [
              0.4444444444444444,
              "#bd3786"
             ],
             [
              0.5555555555555556,
              "#d8576b"
             ],
             [
              0.6666666666666666,
              "#ed7953"
             ],
             [
              0.7777777777777778,
              "#fb9f3a"
             ],
             [
              0.8888888888888888,
              "#fdca26"
             ],
             [
              1,
              "#f0f921"
             ]
            ],
            "type": "heatmap"
           }
          ],
          "heatmapgl": [
           {
            "colorbar": {
             "outlinewidth": 0,
             "ticks": ""
            },
            "colorscale": [
             [
              0,
              "#0d0887"
             ],
             [
              0.1111111111111111,
              "#46039f"
             ],
             [
              0.2222222222222222,
              "#7201a8"
             ],
             [
              0.3333333333333333,
              "#9c179e"
             ],
             [
              0.4444444444444444,
              "#bd3786"
             ],
             [
              0.5555555555555556,
              "#d8576b"
             ],
             [
              0.6666666666666666,
              "#ed7953"
             ],
             [
              0.7777777777777778,
              "#fb9f3a"
             ],
             [
              0.8888888888888888,
              "#fdca26"
             ],
             [
              1,
              "#f0f921"
             ]
            ],
            "type": "heatmapgl"
           }
          ],
          "histogram": [
           {
            "marker": {
             "colorbar": {
              "outlinewidth": 0,
              "ticks": ""
             }
            },
            "type": "histogram"
           }
          ],
          "histogram2d": [
           {
            "colorbar": {
             "outlinewidth": 0,
             "ticks": ""
            },
            "colorscale": [
             [
              0,
              "#0d0887"
             ],
             [
              0.1111111111111111,
              "#46039f"
             ],
             [
              0.2222222222222222,
              "#7201a8"
             ],
             [
              0.3333333333333333,
              "#9c179e"
             ],
             [
              0.4444444444444444,
              "#bd3786"
             ],
             [
              0.5555555555555556,
              "#d8576b"
             ],
             [
              0.6666666666666666,
              "#ed7953"
             ],
             [
              0.7777777777777778,
              "#fb9f3a"
             ],
             [
              0.8888888888888888,
              "#fdca26"
             ],
             [
              1,
              "#f0f921"
             ]
            ],
            "type": "histogram2d"
           }
          ],
          "histogram2dcontour": [
           {
            "colorbar": {
             "outlinewidth": 0,
             "ticks": ""
            },
            "colorscale": [
             [
              0,
              "#0d0887"
             ],
             [
              0.1111111111111111,
              "#46039f"
             ],
             [
              0.2222222222222222,
              "#7201a8"
             ],
             [
              0.3333333333333333,
              "#9c179e"
             ],
             [
              0.4444444444444444,
              "#bd3786"
             ],
             [
              0.5555555555555556,
              "#d8576b"
             ],
             [
              0.6666666666666666,
              "#ed7953"
             ],
             [
              0.7777777777777778,
              "#fb9f3a"
             ],
             [
              0.8888888888888888,
              "#fdca26"
             ],
             [
              1,
              "#f0f921"
             ]
            ],
            "type": "histogram2dcontour"
           }
          ],
          "mesh3d": [
           {
            "colorbar": {
             "outlinewidth": 0,
             "ticks": ""
            },
            "type": "mesh3d"
           }
          ],
          "parcoords": [
           {
            "line": {
             "colorbar": {
              "outlinewidth": 0,
              "ticks": ""
             }
            },
            "type": "parcoords"
           }
          ],
          "pie": [
           {
            "automargin": true,
            "type": "pie"
           }
          ],
          "scatter": [
           {
            "marker": {
             "colorbar": {
              "outlinewidth": 0,
              "ticks": ""
             }
            },
            "type": "scatter"
           }
          ],
          "scatter3d": [
           {
            "line": {
             "colorbar": {
              "outlinewidth": 0,
              "ticks": ""
             }
            },
            "marker": {
             "colorbar": {
              "outlinewidth": 0,
              "ticks": ""
             }
            },
            "type": "scatter3d"
           }
          ],
          "scattercarpet": [
           {
            "marker": {
             "colorbar": {
              "outlinewidth": 0,
              "ticks": ""
             }
            },
            "type": "scattercarpet"
           }
          ],
          "scattergeo": [
           {
            "marker": {
             "colorbar": {
              "outlinewidth": 0,
              "ticks": ""
             }
            },
            "type": "scattergeo"
           }
          ],
          "scattergl": [
           {
            "marker": {
             "colorbar": {
              "outlinewidth": 0,
              "ticks": ""
             }
            },
            "type": "scattergl"
           }
          ],
          "scattermapbox": [
           {
            "marker": {
             "colorbar": {
              "outlinewidth": 0,
              "ticks": ""
             }
            },
            "type": "scattermapbox"
           }
          ],
          "scatterpolar": [
           {
            "marker": {
             "colorbar": {
              "outlinewidth": 0,
              "ticks": ""
             }
            },
            "type": "scatterpolar"
           }
          ],
          "scatterpolargl": [
           {
            "marker": {
             "colorbar": {
              "outlinewidth": 0,
              "ticks": ""
             }
            },
            "type": "scatterpolargl"
           }
          ],
          "scatterternary": [
           {
            "marker": {
             "colorbar": {
              "outlinewidth": 0,
              "ticks": ""
             }
            },
            "type": "scatterternary"
           }
          ],
          "surface": [
           {
            "colorbar": {
             "outlinewidth": 0,
             "ticks": ""
            },
            "colorscale": [
             [
              0,
              "#0d0887"
             ],
             [
              0.1111111111111111,
              "#46039f"
             ],
             [
              0.2222222222222222,
              "#7201a8"
             ],
             [
              0.3333333333333333,
              "#9c179e"
             ],
             [
              0.4444444444444444,
              "#bd3786"
             ],
             [
              0.5555555555555556,
              "#d8576b"
             ],
             [
              0.6666666666666666,
              "#ed7953"
             ],
             [
              0.7777777777777778,
              "#fb9f3a"
             ],
             [
              0.8888888888888888,
              "#fdca26"
             ],
             [
              1,
              "#f0f921"
             ]
            ],
            "type": "surface"
           }
          ],
          "table": [
           {
            "cells": {
             "fill": {
              "color": "#EBF0F8"
             },
             "line": {
              "color": "white"
             }
            },
            "header": {
             "fill": {
              "color": "#C8D4E3"
             },
             "line": {
              "color": "white"
             }
            },
            "type": "table"
           }
          ]
         },
         "layout": {
          "annotationdefaults": {
           "arrowcolor": "#2a3f5f",
           "arrowhead": 0,
           "arrowwidth": 1
          },
          "coloraxis": {
           "colorbar": {
            "outlinewidth": 0,
            "ticks": ""
           }
          },
          "colorscale": {
           "diverging": [
            [
             0,
             "#8e0152"
            ],
            [
             0.1,
             "#c51b7d"
            ],
            [
             0.2,
             "#de77ae"
            ],
            [
             0.3,
             "#f1b6da"
            ],
            [
             0.4,
             "#fde0ef"
            ],
            [
             0.5,
             "#f7f7f7"
            ],
            [
             0.6,
             "#e6f5d0"
            ],
            [
             0.7,
             "#b8e186"
            ],
            [
             0.8,
             "#7fbc41"
            ],
            [
             0.9,
             "#4d9221"
            ],
            [
             1,
             "#276419"
            ]
           ],
           "sequential": [
            [
             0,
             "#0d0887"
            ],
            [
             0.1111111111111111,
             "#46039f"
            ],
            [
             0.2222222222222222,
             "#7201a8"
            ],
            [
             0.3333333333333333,
             "#9c179e"
            ],
            [
             0.4444444444444444,
             "#bd3786"
            ],
            [
             0.5555555555555556,
             "#d8576b"
            ],
            [
             0.6666666666666666,
             "#ed7953"
            ],
            [
             0.7777777777777778,
             "#fb9f3a"
            ],
            [
             0.8888888888888888,
             "#fdca26"
            ],
            [
             1,
             "#f0f921"
            ]
           ],
           "sequentialminus": [
            [
             0,
             "#0d0887"
            ],
            [
             0.1111111111111111,
             "#46039f"
            ],
            [
             0.2222222222222222,
             "#7201a8"
            ],
            [
             0.3333333333333333,
             "#9c179e"
            ],
            [
             0.4444444444444444,
             "#bd3786"
            ],
            [
             0.5555555555555556,
             "#d8576b"
            ],
            [
             0.6666666666666666,
             "#ed7953"
            ],
            [
             0.7777777777777778,
             "#fb9f3a"
            ],
            [
             0.8888888888888888,
             "#fdca26"
            ],
            [
             1,
             "#f0f921"
            ]
           ]
          },
          "colorway": [
           "#636efa",
           "#EF553B",
           "#00cc96",
           "#ab63fa",
           "#FFA15A",
           "#19d3f3",
           "#FF6692",
           "#B6E880",
           "#FF97FF",
           "#FECB52"
          ],
          "font": {
           "color": "#2a3f5f"
          },
          "geo": {
           "bgcolor": "white",
           "lakecolor": "white",
           "landcolor": "#E5ECF6",
           "showlakes": true,
           "showland": true,
           "subunitcolor": "white"
          },
          "hoverlabel": {
           "align": "left"
          },
          "hovermode": "closest",
          "mapbox": {
           "style": "light"
          },
          "paper_bgcolor": "white",
          "plot_bgcolor": "#E5ECF6",
          "polar": {
           "angularaxis": {
            "gridcolor": "white",
            "linecolor": "white",
            "ticks": ""
           },
           "bgcolor": "#E5ECF6",
           "radialaxis": {
            "gridcolor": "white",
            "linecolor": "white",
            "ticks": ""
           }
          },
          "scene": {
           "xaxis": {
            "backgroundcolor": "#E5ECF6",
            "gridcolor": "white",
            "gridwidth": 2,
            "linecolor": "white",
            "showbackground": true,
            "ticks": "",
            "zerolinecolor": "white"
           },
           "yaxis": {
            "backgroundcolor": "#E5ECF6",
            "gridcolor": "white",
            "gridwidth": 2,
            "linecolor": "white",
            "showbackground": true,
            "ticks": "",
            "zerolinecolor": "white"
           },
           "zaxis": {
            "backgroundcolor": "#E5ECF6",
            "gridcolor": "white",
            "gridwidth": 2,
            "linecolor": "white",
            "showbackground": true,
            "ticks": "",
            "zerolinecolor": "white"
           }
          },
          "shapedefaults": {
           "line": {
            "color": "#2a3f5f"
           }
          },
          "ternary": {
           "aaxis": {
            "gridcolor": "white",
            "linecolor": "white",
            "ticks": ""
           },
           "baxis": {
            "gridcolor": "white",
            "linecolor": "white",
            "ticks": ""
           },
           "bgcolor": "#E5ECF6",
           "caxis": {
            "gridcolor": "white",
            "linecolor": "white",
            "ticks": ""
           }
          },
          "title": {
           "x": 0.05
          },
          "xaxis": {
           "automargin": true,
           "gridcolor": "white",
           "linecolor": "white",
           "ticks": "",
           "title": {
            "standoff": 15
           },
           "zerolinecolor": "white",
           "zerolinewidth": 2
          },
          "yaxis": {
           "automargin": true,
           "gridcolor": "white",
           "linecolor": "white",
           "ticks": "",
           "title": {
            "standoff": 15
           },
           "zerolinecolor": "white",
           "zerolinewidth": 2
          }
         }
        },
        "title": {
         "font": {
          "size": 20
         },
         "text": "Status dos pedidos entre 18/12/2020 até 17/03/2021"
        },
        "uniformtext": {
         "minsize": 12,
         "mode": "hide"
        }
       }
      }
     },
     "metadata": {}
    }
   ],
   "source": [
    "import plotly.graph_objects as go\n",
    "\n",
    "fig = go.Figure(data=[go.Pie(labels=sorted(dfTimeline['finalizada'].unique()), \n",
    "                            values=dfTimeline['finalizada'].value_counts().sort_values())])\n",
    "colors = ['tomato','#32c691']\n",
    "\n",
    "fig.update_traces(marker=dict(colors=colors))\n",
    "\n",
    "\n",
    "fig.update_traces(hoverinfo='label+percent', textinfo='value')\n",
    "fig.update_layout(title_text=\"Status dos pedidos entre \" + str(periodoInicial) + \" até \" + str(periodoFinal), title_font_size=20)\n",
    "\n",
    "\n",
    "fig.update_layout(uniformtext_minsize=12, uniformtext_mode='hide')\n",
    "fig.update_layout(\n",
    "    margin=dict(l=20, r=20, t=100, b=20),\n",
    ")\n",
    "fig.update_layout(\n",
    "    annotations=[dict(text='Total = '+str(len(dfTimeline['finalizada']))+' pedidos', x=1.15, y=-0.003, font_size=20, showarrow=False)])\n",
    "fig.show()\n"
   ]
  },
  {
   "cell_type": "code",
   "execution_count": 27,
   "metadata": {},
   "outputs": [
    {
     "output_type": "execute_result",
     "data": {
      "text/plain": [
       "                        _id       ov                        clientName  \\\n",
       "0  5fdd01899591691c943877ab  1304464           MOINHO TAQUARIENSE LTDA   \n",
       "1  5fe09ee7c5f47351cef72e51  1304465            MINERAÇÃO BELOCAL LTDA   \n",
       "2  5fe0c9e0c5f47351ce27b710  6470722  YPIOCA INDUSTRIAL DE BEBIDAS S.A   \n",
       "3  5fe24a3bc5f47351cec79031  1304194               CP KELCO BRASIL S/A   \n",
       "4  5fe328efc5f47351cead6e3b  1304415              GLOBAL PAPEIS EIRELI   \n",
       "\n",
       "       createdAt                                             status  \\\n",
       "0  1608319369639  [{'step': 1, 'label': 'Ov encontrada', 'conten...   \n",
       "1  1608556263663  [{'step': 1, 'label': 'Ov encontrada', 'conten...   \n",
       "2  1608567264022  [{'step': 1, 'label': 'Ov encontrada', 'conten...   \n",
       "3  1608666097633  [{'step': 1, 'label': 'Ov encontrada', 'conten...   \n",
       "4  1608722671882  [{'step': 1, 'label': 'Ov encontrada', 'conten...   \n",
       "\n",
       "                                         statusFinal finalizada  \\\n",
       "0  {'step': 2, 'label': 'Pedido bloqueado - Fatur...  Bloqueado   \n",
       "1  {'step': 2, 'label': 'Pedido bloqueado - Fatur...  Bloqueado   \n",
       "2  {'step': 2, 'label': 'Pedido bloqueado - Fatur...  Bloqueado   \n",
       "3  {'step': 3, 'label': 'Pedido bloqueado - Esse ...  Bloqueado   \n",
       "4  {'step': 2, 'label': 'Pedido bloqueado - Limit...  Bloqueado   \n",
       "\n",
       "   horaUltimoStatus  \n",
       "0  18/12/2020 19:22  \n",
       "1  21/12/2020 13:11  \n",
       "2  21/12/2020 16:14  \n",
       "3  22/12/2020 19:41  \n",
       "4  23/12/2020 11:24  "
      ],
      "text/html": "<div>\n<style scoped>\n    .dataframe tbody tr th:only-of-type {\n        vertical-align: middle;\n    }\n\n    .dataframe tbody tr th {\n        vertical-align: top;\n    }\n\n    .dataframe thead th {\n        text-align: right;\n    }\n</style>\n<table border=\"1\" class=\"dataframe\">\n  <thead>\n    <tr style=\"text-align: right;\">\n      <th></th>\n      <th>_id</th>\n      <th>ov</th>\n      <th>clientName</th>\n      <th>createdAt</th>\n      <th>status</th>\n      <th>statusFinal</th>\n      <th>finalizada</th>\n      <th>horaUltimoStatus</th>\n    </tr>\n  </thead>\n  <tbody>\n    <tr>\n      <th>0</th>\n      <td>5fdd01899591691c943877ab</td>\n      <td>1304464</td>\n      <td>MOINHO TAQUARIENSE LTDA</td>\n      <td>1608319369639</td>\n      <td>[{'step': 1, 'label': 'Ov encontrada', 'conten...</td>\n      <td>{'step': 2, 'label': 'Pedido bloqueado - Fatur...</td>\n      <td>Bloqueado</td>\n      <td>18/12/2020 19:22</td>\n    </tr>\n    <tr>\n      <th>1</th>\n      <td>5fe09ee7c5f47351cef72e51</td>\n      <td>1304465</td>\n      <td>MINERAÇÃO BELOCAL LTDA</td>\n      <td>1608556263663</td>\n      <td>[{'step': 1, 'label': 'Ov encontrada', 'conten...</td>\n      <td>{'step': 2, 'label': 'Pedido bloqueado - Fatur...</td>\n      <td>Bloqueado</td>\n      <td>21/12/2020 13:11</td>\n    </tr>\n    <tr>\n      <th>2</th>\n      <td>5fe0c9e0c5f47351ce27b710</td>\n      <td>6470722</td>\n      <td>YPIOCA INDUSTRIAL DE BEBIDAS S.A</td>\n      <td>1608567264022</td>\n      <td>[{'step': 1, 'label': 'Ov encontrada', 'conten...</td>\n      <td>{'step': 2, 'label': 'Pedido bloqueado - Fatur...</td>\n      <td>Bloqueado</td>\n      <td>21/12/2020 16:14</td>\n    </tr>\n    <tr>\n      <th>3</th>\n      <td>5fe24a3bc5f47351cec79031</td>\n      <td>1304194</td>\n      <td>CP KELCO BRASIL S/A</td>\n      <td>1608666097633</td>\n      <td>[{'step': 1, 'label': 'Ov encontrada', 'conten...</td>\n      <td>{'step': 3, 'label': 'Pedido bloqueado - Esse ...</td>\n      <td>Bloqueado</td>\n      <td>22/12/2020 19:41</td>\n    </tr>\n    <tr>\n      <th>4</th>\n      <td>5fe328efc5f47351cead6e3b</td>\n      <td>1304415</td>\n      <td>GLOBAL PAPEIS EIRELI</td>\n      <td>1608722671882</td>\n      <td>[{'step': 1, 'label': 'Ov encontrada', 'conten...</td>\n      <td>{'step': 2, 'label': 'Pedido bloqueado - Limit...</td>\n      <td>Bloqueado</td>\n      <td>23/12/2020 11:24</td>\n    </tr>\n  </tbody>\n</table>\n</div>"
     },
     "metadata": {},
     "execution_count": 27
    }
   ],
   "source": [
    "dfOvsLiberadas = dfTimeline.reset_index(drop=True)\n",
    "dfOvsLiberadas.head()"
   ]
  },
  {
   "cell_type": "code",
   "execution_count": 28,
   "metadata": {},
   "outputs": [],
   "source": [
    "dfOvsLiberadas[['ov', 'clientName', 'finalizada', 'horaUltimoStatus']].to_excel(\"OVS_e_status.xlsx\")"
   ]
  }
 ]
}